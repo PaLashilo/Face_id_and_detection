{
 "cells": [
  {
   "cell_type": "code",
   "execution_count": 1,
   "metadata": {},
   "outputs": [],
   "source": [
    "import torch\n",
    "import src.models as mdls\n",
    "import src.utils as utils\n",
    "import torchvision.transforms as tf\n",
    "import numpy as np\n",
    "import cv2"
   ]
  },
  {
   "cell_type": "code",
   "execution_count": null,
   "metadata": {},
   "outputs": [],
   "source": [
    "conv = mdls.ConvEmbedding()\n",
    "model = mdls.Triplet(conv)\n",
    "\n",
    "path_model_dict = \"/Users/andreisuhov/Downloads/checkpoint_epoch_19_recognition.pth\"\n",
    "model_state_dict = torch.load(path_model_dict, map_location=torch.device('cpu'))['model_state_dict']\n",
    "model.load_state_dict(model_state_dict)\n",
    "model.eval()\n",
    "None"
   ]
  },
  {
   "cell_type": "code",
   "execution_count": 11,
   "metadata": {},
   "outputs": [],
   "source": [
    "first = '/Users/andreisuhov/Desktop/новые фотки/нов фото/Снимок экрана 2023-11-03 в 20.52.07.png'\n",
    "second = \"/Users/andreisuhov/Desktop/новые фотки/нов фото/Снимок экрана 2023-11-03 в 20.52.17.png\"\n",
    "third = '/Users/andreisuhov/Desktop/новые фотки/нов фото/Снимок экрана 2023-11-03 в 20.52.32.png'\n",
    "fourth = \"/Users/andreisuhov/Desktop/новые фотки/нов фото/Снимок экрана 2023-11-03 в 20.52.24.png\"\n",
    "\n",
    "five = '/Users/andreisuhov/Desktop/новые фотки/нов фото/Снимок экрана 2023-11-03 в 20.55.36.png'\n",
    "six = '/Users/andreisuhov/Desktop/новые фотки/нов фото/Снимок экрана 2023-11-03 в 20.56.19.png'\n",
    "ant = '/Users/andreisuhov/Desktop/новые фотки/нов фото/Снимок экрана 2023-11-03 в 20.58.32.png'\n",
    "\n",
    "\n",
    "def get_emb(image_path):\n",
    "    img = cv2.imread(str(image_path))\n",
    "    img = cv2.cvtColor(img, cv2.COLOR_BGR2RGB)\n",
    "    img = cv2.resize(img, (128,128)).astype(np.float32)\n",
    "    img /= 255.0\n",
    "    img = np.transpose(img, (2, 0, 1))\n",
    "    img = torch.tensor(img, dtype=torch.float32)\n",
    "    \n",
    "    with torch.no_grad():\n",
    "        emb = model.encoder(img.unsqueeze(0))\n",
    "\n",
    "    return emb.squeeze()"
   ]
  },
  {
   "cell_type": "code",
   "execution_count": 12,
   "metadata": {},
   "outputs": [
    {
     "data": {
      "text/plain": [
       "torch.Size([512])"
      ]
     },
     "execution_count": 12,
     "metadata": {},
     "output_type": "execute_result"
    }
   ],
   "source": [
    "f_emb = get_emb(first)\n",
    "s_emb = get_emb(second)\n",
    "t_emb = get_emb(third)\n",
    "fo_emb = get_emb(fourth)\n",
    "fiv_emb = get_emb(five)\n",
    "six_emb = get_emb(six)\n",
    "ant_emb = get_emb(ant)\n",
    "fo_emb.shape"
   ]
  },
  {
   "cell_type": "code",
   "execution_count": 15,
   "metadata": {},
   "outputs": [
    {
     "name": "stdout",
     "output_type": "stream",
     "text": [
      "tensor([[0.0000, 2.5470, 4.4009, 3.4439, 2.3348, 2.9689, 3.1880],\n",
      "        [2.5470, 0.0000, 3.3681, 3.5720, 2.6139, 3.4475, 3.2915],\n",
      "        [4.4009, 3.3681, 0.0000, 4.3906, 4.1000, 4.2492, 4.6798],\n",
      "        [3.4439, 3.5720, 4.3906, 0.0000, 2.7745, 3.2115, 2.7830],\n",
      "        [2.3348, 2.6139, 4.1000, 2.7745, 0.0000, 2.3802, 2.7478],\n",
      "        [2.9689, 3.4475, 4.2492, 3.2115, 2.3802, 0.0000, 3.5213],\n",
      "        [3.1880, 3.2915, 4.6798, 2.7830, 2.7478, 3.5213, 0.0000]])\n"
     ]
    }
   ],
   "source": [
    "import numpy as np\n",
    "from scipy.spatial.distance import cosine\n",
    "\n",
    "# предположим, что f_emb, s_emb, t_emb и fo_emb - это ваши четыре\n",
    "def euclidean_distance(tensor1, tensor2):\n",
    "    return torch.dist(tensor1, tensor2)\n",
    "\n",
    "\n",
    "# Инициализируем матрицу расстояний\n",
    "distance_matrix = torch.zeros(7, 7)\n",
    "\n",
    "# Заполняем матрицу расстояниями\n",
    "embeddings = [f_emb, s_emb, t_emb, fo_emb, fiv_emb, six_emb, ant_emb]\n",
    "for i in range(len(embeddings)):\n",
    "    for j in range(len(embeddings)):\n",
    "        if i != j:\n",
    "            distance_matrix[i, j] = euclidean_distance(embeddings[i].squeeze(), embeddings[j].squeeze())\n",
    "\n",
    "# Выводим матрицу расстояний\n",
    "print(distance_matrix)"
   ]
  }
 ],
 "metadata": {
  "kernelspec": {
   "display_name": "Python 3",
   "language": "python",
   "name": "python3"
  },
  "language_info": {
   "codemirror_mode": {
    "name": "ipython",
    "version": 3
   },
   "file_extension": ".py",
   "mimetype": "text/x-python",
   "name": "python",
   "nbconvert_exporter": "python",
   "pygments_lexer": "ipython3",
   "version": "3.10.2"
  }
 },
 "nbformat": 4,
 "nbformat_minor": 2
}
