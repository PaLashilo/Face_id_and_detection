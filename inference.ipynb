{
 "cells": [
  {
   "cell_type": "code",
   "execution_count": null,
   "metadata": {},
   "outputs": [],
   "source": [
    "import src.utils as utils\n",
    "\n",
    "det_model, rec_model = utils.get_models_with_weights()\n",
    "None"
   ]
  },
  {
   "cell_type": "code",
   "execution_count": null,
   "metadata": {},
   "outputs": [],
   "source": [
    "print(\"Enter number of action: \\n\\t1. Add new person\\n\\t2. Delete person by name \")\n",
    "\n",
    "action = int(input())\n",
    "\n",
    "if action == 1:\n",
    "    image_folder_path = input(\"Enter folder path\")\n",
    "    name = input(\"Enter name of photo owner \")\n",
    "    \n",
    "    images =  utils.add2db(image_folder_path, name, model=det_model, rec_model=rec_model)\n",
    "elif action == 2:\n",
    "    name = input(\"Enter name of photo owner \")\n",
    "    utils.drop_from_database(name)"
   ]
  },
  {
   "cell_type": "code",
   "execution_count": null,
   "metadata": {},
   "outputs": [],
   "source": [
    "# для ввода пути через переменные\n",
    "folder_path = ''\n",
    "name = ''\n",
    "utils.add2db(folder_path, name,  rec_model=rec_model)"
   ]
  },
  {
   "cell_type": "code",
   "execution_count": null,
   "metadata": {},
   "outputs": [],
   "source": [
    "print('make a smile face!!!')\n",
    "utils.recognition_cam(0, model=det_model, embedding_model=rec_model, database_path='Database.csv')"
   ]
  }
 ],
 "metadata": {
  "kernelspec": {
   "display_name": "base",
   "language": "python",
   "name": "python3"
  },
  "language_info": {
   "codemirror_mode": {
    "name": "ipython",
    "version": 3
   },
   "file_extension": ".py",
   "mimetype": "text/x-python",
   "name": "python",
   "nbconvert_exporter": "python",
   "pygments_lexer": "ipython3",
   "version": "3.10.2"
  }
 },
 "nbformat": 4,
 "nbformat_minor": 2
}
