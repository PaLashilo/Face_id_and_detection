{
 "cells": [
  {
   "cell_type": "code",
   "execution_count": 1,
   "metadata": {
    "execution": {
     "iopub.execute_input": "2023-10-06T11:29:02.262970Z",
     "iopub.status.busy": "2023-10-06T11:29:02.261931Z",
     "iopub.status.idle": "2023-10-06T11:29:05.592340Z",
     "shell.execute_reply": "2023-10-06T11:29:05.591330Z"
    }
   },
   "outputs": [],
   "source": [
    "import torch\n",
    "import torch.nn as nn"
   ]
  },
  {
   "cell_type": "code",
   "execution_count": 2,
   "metadata": {
    "execution": {
     "iopub.execute_input": "2023-10-06T11:29:05.651583Z",
     "iopub.status.busy": "2023-10-06T11:29:05.651583Z",
     "iopub.status.idle": "2023-10-06T11:29:05.667967Z",
     "shell.execute_reply": "2023-10-06T11:29:05.667967Z"
    }
   },
   "outputs": [],
   "source": [
    "class VGG16(nn.Module):\n",
    "    def __init__(self, img_size):\n",
    "        super().__init__()\n",
    "\n",
    "        self.img_size = img_size\n",
    "\n",
    "        self.conv_layers = nn.ModuleList([])\n",
    "\n",
    "        layers_with_maxpool = [2, 4, 7, 10, 13]\n",
    "        kernel_count = {1: 64, 2: 64, 3: 128, 4: 128, 5: 256, 6: 256,\n",
    "                        7: 256, 8: 512, 9: 512, 10: 512, 11: 512, 12: 512, 13: 512}\n",
    "\n",
    "        for layer in range(1, 14):\n",
    "            cur_kernel_count = kernel_count[layer]\n",
    "            self.conv_layers.append(nn.Conv2d(cur_kernel_count, cur_kernel_count, kernel_size=3, padding=1))\n",
    "            self.conv_layers.append(nn.BatchNorm2d(cur_kernel_count))\n",
    "            self.conv_layers.append(nn.ReLU(inplace=True))\n",
    "\n",
    "            if layer in layers_with_maxpool:\n",
    "                self.conv_layers.append(nn.MaxPool2d(2, 2))\n",
    "\n",
    "        self.fc_layers = nn.ModuleList([])\n",
    "        neuron_count = {14: (self.img_size/2**5)*512, 15: 4096}\n",
    "\n",
    "        for layer in range(14, 16):\n",
    "            cur_neuron_count = neuron_count[layer]\n",
    "            self.fc_layers.append(nn.Dropout(0.5))\n",
    "            self.fc_layers.append(nn.Linear(cur_neuron_count, 4096))\n",
    "            self.fc_layers.append(nn.ReLU(inplace=True))\n",
    "\n",
    "        self.fc_layers.append(nn.Linear(4096, 5))  # 5 - P, x, y, w, h\n",
    "\n",
    "    def forward(self, out):\n",
    "\n",
    "        for cur_layer in self.conv_layers:\n",
    "            out = cur_layer(out)\n",
    "\n",
    "        out = torch.flatten(out, 1)\n",
    "\n",
    "        for cur_layer in self.fc_layers:\n",
    "            out = cur_layer(out)\n",
    "\n",
    "        return out"
   ]
  },
  {
   "cell_type": "code",
   "execution_count": null,
   "metadata": {},
   "outputs": [],
   "source": []
  }
 ],
 "metadata": {
  "language_info": {
   "codemirror_mode": {
    "name": "ipython",
    "version": 3
   },
   "file_extension": ".py",
   "mimetype": "text/x-python",
   "name": "python",
   "nbconvert_exporter": "python",
   "pygments_lexer": "ipython3",
   "version": "3.9.7"
  }
 },
 "nbformat": 4,
 "nbformat_minor": 2
}
