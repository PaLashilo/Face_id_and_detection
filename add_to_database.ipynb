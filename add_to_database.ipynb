{
 "cells": [
  {
   "cell_type": "code",
   "execution_count": 1,
   "metadata": {},
   "outputs": [],
   "source": [
    "import torch\n",
    "import src.utils as utils\n",
    "\n",
    "from src import models\n",
    "import numpy as np\n",
    "\n",
    "import src.utils as utils\n",
    "import torchvision.transforms as tf"
   ]
  },
  {
   "cell_type": "code",
   "execution_count": 4,
   "metadata": {},
   "outputs": [
    {
     "name": "stdout",
     "output_type": "stream",
     "text": [
      "Successfully loaded weights\n"
     ]
    }
   ],
   "source": [
    "config = utils.get_options()\n",
    "det_model, rec_model = utils.get_models_with_weights()\n",
    "# from facenet_pytorch import InceptionResnetV1\n",
    "# rec_model = InceptionResnetV1(pretrained='vggface2')\n",
    "# rec_model.eval()\n",
    "None"
   ]
  },
  {
   "cell_type": "code",
   "execution_count": 6,
   "metadata": {},
   "outputs": [],
   "source": [
    "# nastya = utils.add2db('/Users/andreisuhov/Desktop/новые фотки/нов фото/Nastya', 'Nastya', model=det_model, rec_model=rec_model)\n",
    "# anton = utils.add2db('/Users/andreisuhov/Desktop/новые фотки/нов фото/Anton', 'Anton', model=det_model, rec_model=rec_model)\n",
    "# grisha = utils.add2db('/Users/andreisuhov/Desktop/новые фотки/нов фото/Grisha', 'Grisha', model=det_model, rec_model=rec_model)\n",
    "# andrew = utils.add2db('/Users/andreisuhov/Desktop/новые фотки/нов фото/Andrew', 'Andrew', model=det_model, rec_model=rec_model)\n"
   ]
  },
  {
   "cell_type": "code",
   "execution_count": 16,
   "metadata": {},
   "outputs": [
    {
     "name": "stdout",
     "output_type": "stream",
     "text": [
      "Enter number of action: \n",
      "\t1. Add new person\n",
      "\t2. Delete person by name \n",
      "[299, 285, 649, 807]\n"
     ]
    }
   ],
   "source": [
    "print(\"Enter number of action: \\n\\t1. Add new person\\n\\t2. Delete person by name \")\n",
    "\n",
    "action = int(input())\n",
    "\n",
    "if action == 1:\n",
    "    image_folder_path = '/Users/andreisuhov/Desktop/grisha'\n",
    "    \n",
    "    name = input(\"Enter name of photo owner \")\n",
    "    \n",
    "    images =  utils.add2db(image_folder_path, name, model=det_model, rec_model=rec_model)\n",
    "elif action == 2:\n",
    "    name = input(\"Enter name of photo owner \")\n",
    "    utils.drop_from_database(name)"
   ]
  },
  {
   "cell_type": "code",
   "execution_count": 4,
   "metadata": {},
   "outputs": [
    {
     "ename": "NameError",
     "evalue": "name 'images' is not defined",
     "output_type": "error",
     "traceback": [
      "\u001b[0;31m---------------------------------------------------------------------------\u001b[0m",
      "\u001b[0;31mNameError\u001b[0m                                 Traceback (most recent call last)",
      "\u001b[1;32m/Users/andreisuhov/Desktop/DL projects/Face_id_and_detection/add_to_database.ipynb Cell 6\u001b[0m line \u001b[0;36m1\n\u001b[0;32m----> <a href='vscode-notebook-cell:/Users/andreisuhov/Desktop/DL%20projects/Face_id_and_detection/add_to_database.ipynb#W4sZmlsZQ%3D%3D?line=0'>1</a>\u001b[0m images[\u001b[39m0\u001b[39m]\n",
      "\u001b[0;31mNameError\u001b[0m: name 'images' is not defined"
     ]
    }
   ],
   "source": [
    "images[0]"
   ]
  },
  {
   "cell_type": "code",
   "execution_count": 8,
   "metadata": {},
   "outputs": [],
   "source": [
    "utils.recognition_cam(0, model=det_model, embedding_model=rec_model, database_path='Database.csv')"
   ]
  }
 ],
 "metadata": {
  "kernelspec": {
   "display_name": "base",
   "language": "python",
   "name": "python3"
  },
  "language_info": {
   "codemirror_mode": {
    "name": "ipython",
    "version": 3
   },
   "file_extension": ".py",
   "mimetype": "text/x-python",
   "name": "python",
   "nbconvert_exporter": "python",
   "pygments_lexer": "ipython3",
   "version": "3.10.2"
  }
 },
 "nbformat": 4,
 "nbformat_minor": 2
}
