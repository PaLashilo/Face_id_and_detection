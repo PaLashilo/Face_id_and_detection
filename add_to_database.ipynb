{
 "cells": [
  {
   "cell_type": "code",
   "execution_count": 1,
   "metadata": {},
   "outputs": [],
   "source": [
    "import torch\n",
    "import src.utils as utils\n",
    "\n",
    "from src import models\n",
    "import numpy as np\n",
    "\n",
    "import src.utils as utils\n",
    "import torchvision.transforms as tf"
   ]
  },
  {
   "cell_type": "code",
   "execution_count": 2,
   "metadata": {},
   "outputs": [
    {
     "name": "stdout",
     "output_type": "stream",
     "text": [
      "Successfully loaded weights\n"
     ]
    }
   ],
   "source": [
    "config = utils.get_options()\n",
    "det_model, rec_model = utils.get_models_with_weights()\n",
    "# from facenet_pytorch import InceptionResnetV1\n",
    "# rec_model = InceptionResnetV1(pretrained='vggface2')\n",
    "# rec_model.eval()\n",
    "None"
   ]
  },
  {
   "cell_type": "code",
   "execution_count": 5,
   "metadata": {},
   "outputs": [
    {
     "name": "stdout",
     "output_type": "stream",
     "text": [
      "Enter number of action: \n",
      "\t1. Add new person\n",
      "\t2. Delete person by name \n",
      "[173, 139, 731, 816]\n"
     ]
    }
   ],
   "source": [
    "print(\"Enter number of action: \\n\\t1. Add new person\\n\\t2. Delete person by name \")\n",
    "\n",
    "action = int(input())\n",
    "\n",
    "if action == 1:\n",
    "    image_folder_path = input(\"Enter path to folder with photos in .png format \")\n",
    "    \n",
    "    name = input(\"Enter name of photo owner \")\n",
    "    \n",
    "    images =  utils.add2db(image_folder_path, name, model=det_model, rec_model=rec_model)\n",
    "elif action == 2:\n",
    "    name = input(\"Enter name of photo owner \")\n",
    "    utils.drop_from_database(name)"
   ]
  },
  {
   "cell_type": "code",
   "execution_count": null,
   "metadata": {},
   "outputs": [],
   "source": [
    "images[0]"
   ]
  },
  {
   "cell_type": "code",
   "execution_count": 8,
   "metadata": {},
   "outputs": [],
   "source": [
    "utils.recognition_cam(0, model=det_model, embedding_model=rec_model, database_path='Database.csv')"
   ]
  }
 ],
 "metadata": {
  "kernelspec": {
   "display_name": "base",
   "language": "python",
   "name": "python3"
  },
  "language_info": {
   "codemirror_mode": {
    "name": "ipython",
    "version": 3
   },
   "file_extension": ".py",
   "mimetype": "text/x-python",
   "name": "python",
   "nbconvert_exporter": "python",
   "pygments_lexer": "ipython3",
   "version": "3.10.2"
  }
 },
 "nbformat": 4,
 "nbformat_minor": 2
}
