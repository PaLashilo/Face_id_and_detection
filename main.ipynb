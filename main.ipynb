{
 "cells": [
  {
   "cell_type": "code",
   "execution_count": 1,
   "metadata": {},
   "outputs": [
    {
     "name": "stdout",
     "output_type": "stream",
     "text": [
      "Moving kaggle file\n",
      "\n",
      "all datasets are in place\n"
     ]
    }
   ],
   "source": [
    "import torch\n",
    "import torch.nn as nn\n",
    "\n",
    "import os\n",
    "import json\n",
    "from tqdm import tqdm\n",
    "\n",
    "import src.models as mdls\n",
    "import src.utils as utils\n",
    "\n",
    "# Face recognition imports\n",
    "from src.models import Triplet\n",
    "from src.models import ConvEmbedding\n",
    "\n",
    "from src.utils import TripletLoss\n",
    "\n",
    "\n",
    "#downloading datasets\n",
    "config = utils.get_options()\n",
    "\n",
    "\n",
    "if config['use_colab']:\n",
    "    utils.colab()\n",
    "else:\n",
    "    utils.check_if_datasets_are_downloaded()\n",
    "\n",
    "\n",
    "import src.dataloaders as dataloaders\n",
    "\n",
    "from comet_ml import Experiment\n",
    "from comet_ml.integration.pytorch import log_model"
   ]
  },
  {
   "cell_type": "code",
   "execution_count": 2,
   "metadata": {},
   "outputs": [
    {
     "data": {
      "text/plain": [
       "device(type='cpu')"
      ]
     },
     "execution_count": 2,
     "metadata": {},
     "output_type": "execute_result"
    }
   ],
   "source": [
    "img_size = config['img_size']\n",
    "# Define a directory to save the checkpoints\n",
    "checkpoint_dir = \"checkpoints/\"\n",
    "\n",
    "# Ensure the directory exists\n",
    "os.makedirs(checkpoint_dir, exist_ok=True)\n",
    "\n",
    "#define device\n",
    "device = torch.device(\"cuda\" if torch.cuda.is_available() else \"cpu\")\n",
    "device"
   ]
  },
  {
   "cell_type": "code",
   "execution_count": 3,
   "metadata": {},
   "outputs": [],
   "source": [
    "#Face detection setup\n",
    "test_size = 0.1\n",
    "\n",
    "detection_model = mdls.InspectorGadjet()\n",
    "# dataloader_for_detection = dataloaders.detection_dataloader\n",
    "train_detection_dataloader, test_detection_dataloader = dataloaders.get_train_test_dataloaders(dataloaders.dataset, test_size=test_size)\n",
    "\n",
    "# loss_fn = nn.MSELoss()\n",
    "# loss_fn = mdls.combined_loss\n",
    "loss_fn = nn.MSELoss()\n",
    "optimizer = torch.optim.Adam(detection_model.parameters(), lr=1e-3)\n",
    "detection_model.to(device)\n",
    "\n",
    "scheduler = torch.optim.lr_scheduler.StepLR(optimizer, step_size=10, gamma=0.1)\n",
    "early_stopper = utils.EarlyStopping(patience=10, min_delta=0.01)\n",
    "# loss_fn.to(device)\n",
    "\n",
    "None"
   ]
  },
  {
   "cell_type": "code",
   "execution_count": 4,
   "metadata": {},
   "outputs": [
    {
     "data": {
      "text/plain": [
       "1113"
      ]
     },
     "execution_count": 4,
     "metadata": {},
     "output_type": "execute_result"
    }
   ],
   "source": [
    "len(train_detection_dataloader)"
   ]
  },
  {
   "cell_type": "code",
   "execution_count": null,
   "metadata": {},
   "outputs": [],
   "source": [
    "### Function to check how albumentation works\n",
    "batch = next(iter(train_detection_dataloader))\n",
    "utils.plot_images_with_bboxes(batch)"
   ]
  },
  {
   "cell_type": "code",
   "execution_count": null,
   "metadata": {},
   "outputs": [],
   "source": [
    "det_epochs = config['detection_epochs']\n",
    "det_logging = config['detection_logging']\n",
    "log_interval = config[\"detection_log_wieghts_interval\"]\n",
    "test_img_path = ''\n",
    "\n",
    "if det_logging: \n",
    "    # read secrets for cometml logging\n",
    "    with open('secrets.json') as secrets_file:\n",
    "        secrets = json.load(secrets_file)\n",
    "\n",
    "    # init experimenxt\n",
    "    experiment = Experiment(\n",
    "        api_key=secrets[\"api_key\"],\n",
    "        project_name=secrets[\"project_name\"],\n",
    "        workspace=\"reu-ds-club\", \n",
    "        tags=[\"detection\"],\n",
    "    )\n",
    "\n",
    "    hyper_params = {\n",
    "        \"model_name\": config[\"model\"],\n",
    "        \"use_colab\": config['use_colab'], \n",
    "        \"epochs\": det_epochs,\n",
    "        \"batch_size\": config['batch_size'], \n",
    "        \"image_size\": config['img_size'], \n",
    "    }\n",
    "\n",
    "    experiment.log_parameters(hyper_params)\n",
    "\n",
    "for epoch in range(det_epochs):\n",
    "    epoch_loss = 0.0\n",
    "    for sample in (pbar := tqdm(train_detection_dataloader)):\n",
    "\n",
    "        img, box = sample[0].to(device), sample[1].to(device)\n",
    "        img = img.to(torch.float32)\n",
    "\n",
    "        box = box.to(torch.float32)\n",
    "        optimizer.zero_grad()\n",
    "        pred = detection_model(img)\n",
    "        # loss = loss_fn(pred, box)\n",
    "        \n",
    "\n",
    "        # loss = loss_fn(pred[0], pred[1], box)\n",
    "        \n",
    "        loss = loss_fn(pred, box)\n",
    "\n",
    "        loss.backward()\n",
    "        optimizer.step()\n",
    "        \n",
    "\n",
    "        epoch_loss += loss.item()\n",
    "\n",
    "    scheduler.step()\n",
    "    val_loss = utils.validate_model(detection_model, test_detection_dataloader, loss_fn, device)\n",
    "\n",
    "    print(f\"Epoch: {epoch}\\tLoss: {epoch_loss / len(train_detection_dataloader)}\\tVal loss: {val_loss}\")\n",
    "    utils.save_img_after_epoch(test_img_path, detection_model, epoch, device)\n",
    "\n",
    "    early_stopper(val_loss)\n",
    "    if early_stopper.early_stop:\n",
    "        print(\"Early stopping\")\n",
    "        break\n",
    "\n",
    "    checkpoint_filename = os.path.join(checkpoint_dir, f\"{epoch}_checkpoint_detection.pth\")\n",
    "    torch.save({\n",
    "        'epoch': epoch,\n",
    "        'model_state_dict': detection_model.state_dict(),\n",
    "        'optimizer_state_dict': optimizer.state_dict(),\n",
    "        'loss': epoch_loss,\n",
    "    }, checkpoint_filename)\n",
    "\n",
    "    if det_logging:\n",
    "        experiment.log_metric(\"loss\", epoch_loss, step=epoch)\n",
    "    \n",
    "    # logging model weights (accorging to log_interval + last epoch)\n",
    "    if det_logging and (epoch % log_interval == 0 or epoch == det_epochs-1):\n",
    "        torch.save(detection_model, 'det_model.pth')\n",
    "        experiment.log_model(name = f\"model-epoch-{epoch}\", file_or_folder = 'det_model.pth', file_name = f\"det-model-epoch-{epoch}\")\n",
    "        experiment.log_asset(file_data = 'det_model.pth', file_name = f\"det_model-epoch-{epoch}\")\n",
    "        print(\"save model\")\n",
    "\n",
    "\n",
    "if det_logging:\n",
    "    experiment.end()"
   ]
  },
  {
   "cell_type": "code",
   "execution_count": 3,
   "metadata": {},
   "outputs": [],
   "source": [
    "from facenet_pytorch import InceptionResnetV1\n",
    "\n",
    "#Face recognition setup\n",
    "test_size = 0.1\n",
    "conv = ConvEmbedding().to(device)\n",
    "triplet_model = Triplet(conv).to(device)\n",
    "\n",
    "facenet = InceptionResnetV1(pretrained='vggface2')\n",
    "loss_for_recognition = TripletLoss(margin=5)\n",
    "optimizer = torch.optim.Adam(triplet_model.parameters(), lr=1e-3)\n",
    "criterion = nn.MSELoss()\n",
    "\n",
    "scheduler = torch.optim.lr_scheduler.StepLR(optimizer, step_size=10, gamma=0.1)\n",
    "early_stopper = utils.EarlyStopping(patience=10, min_delta=0.01)"
   ]
  },
  {
   "cell_type": "code",
   "execution_count": 4,
   "metadata": {},
   "outputs": [
    {
     "data": {
      "text/plain": [
       "1021"
      ]
     },
     "execution_count": 4,
     "metadata": {},
     "output_type": "execute_result"
    }
   ],
   "source": [
    "recognition_dataloader = dataloaders.recognition_dataloader\n",
    "len(recognition_dataloader)"
   ]
  },
  {
   "cell_type": "code",
   "execution_count": null,
   "metadata": {},
   "outputs": [],
   "source": [
    "train_recognition_dataloader, test_recognition_dataloader = dataloaders.get_train_test_dataloaders(dataloaders.CelebA_dataset, test_size=test_size)"
   ]
  },
  {
   "cell_type": "code",
   "execution_count": 5,
   "metadata": {},
   "outputs": [
    {
     "name": "stderr",
     "output_type": "stream",
     "text": [
      "  0%|          | 0/1021 [00:00<?, ?it/s]"
     ]
    },
    {
     "name": "stderr",
     "output_type": "stream",
     "text": [
      "  0%|          | 3/1021 [00:12<1:12:10,  4.25s/it]\n"
     ]
    },
    {
     "ename": "KeyboardInterrupt",
     "evalue": "",
     "output_type": "error",
     "traceback": [
      "\u001b[0;31m---------------------------------------------------------------------------\u001b[0m",
      "\u001b[0;31mKeyboardInterrupt\u001b[0m                         Traceback (most recent call last)",
      "\u001b[1;32m/Users/andreisuhov/Desktop/DL projects/Face_id_and_detection/main.ipynb Cell 9\u001b[0m line \u001b[0;36m3\n\u001b[1;32m     <a href='vscode-notebook-cell:/Users/andreisuhov/Desktop/DL%20projects/Face_id_and_detection/main.ipynb#X12sZmlsZQ%3D%3D?line=35'>36</a>\u001b[0m triplet_loss \u001b[39m=\u001b[39m loss_for_recognition(\u001b[39m*\u001b[39mpreds)\n\u001b[1;32m     <a href='vscode-notebook-cell:/Users/andreisuhov/Desktop/DL%20projects/Face_id_and_detection/main.ipynb#X12sZmlsZQ%3D%3D?line=37'>38</a>\u001b[0m triplet_encoder_output \u001b[39m=\u001b[39m triplet_model\u001b[39m.\u001b[39mencoder(anc\u001b[39m.\u001b[39mto(device))\n\u001b[0;32m---> <a href='vscode-notebook-cell:/Users/andreisuhov/Desktop/DL%20projects/Face_id_and_detection/main.ipynb#X12sZmlsZQ%3D%3D?line=38'>39</a>\u001b[0m outputs_facenet \u001b[39m=\u001b[39m facenet(anc\u001b[39m.\u001b[39;49mto(device))\n\u001b[1;32m     <a href='vscode-notebook-cell:/Users/andreisuhov/Desktop/DL%20projects/Face_id_and_detection/main.ipynb#X12sZmlsZQ%3D%3D?line=39'>40</a>\u001b[0m distillation_loss \u001b[39m=\u001b[39m criterion(triplet_encoder_output, outputs_facenet)\n\u001b[1;32m     <a href='vscode-notebook-cell:/Users/andreisuhov/Desktop/DL%20projects/Face_id_and_detection/main.ipynb#X12sZmlsZQ%3D%3D?line=41'>42</a>\u001b[0m total_loss \u001b[39m=\u001b[39m triplet_loss \u001b[39m+\u001b[39m distillation_loss\n",
      "File \u001b[0;32m/Library/Frameworks/Python.framework/Versions/3.10/lib/python3.10/site-packages/torch/nn/modules/module.py:1501\u001b[0m, in \u001b[0;36mModule._call_impl\u001b[0;34m(self, *args, **kwargs)\u001b[0m\n\u001b[1;32m   1496\u001b[0m \u001b[39m# If we don't have any hooks, we want to skip the rest of the logic in\u001b[39;00m\n\u001b[1;32m   1497\u001b[0m \u001b[39m# this function, and just call forward.\u001b[39;00m\n\u001b[1;32m   1498\u001b[0m \u001b[39mif\u001b[39;00m \u001b[39mnot\u001b[39;00m (\u001b[39mself\u001b[39m\u001b[39m.\u001b[39m_backward_hooks \u001b[39mor\u001b[39;00m \u001b[39mself\u001b[39m\u001b[39m.\u001b[39m_backward_pre_hooks \u001b[39mor\u001b[39;00m \u001b[39mself\u001b[39m\u001b[39m.\u001b[39m_forward_hooks \u001b[39mor\u001b[39;00m \u001b[39mself\u001b[39m\u001b[39m.\u001b[39m_forward_pre_hooks\n\u001b[1;32m   1499\u001b[0m         \u001b[39mor\u001b[39;00m _global_backward_pre_hooks \u001b[39mor\u001b[39;00m _global_backward_hooks\n\u001b[1;32m   1500\u001b[0m         \u001b[39mor\u001b[39;00m _global_forward_hooks \u001b[39mor\u001b[39;00m _global_forward_pre_hooks):\n\u001b[0;32m-> 1501\u001b[0m     \u001b[39mreturn\u001b[39;00m forward_call(\u001b[39m*\u001b[39;49margs, \u001b[39m*\u001b[39;49m\u001b[39m*\u001b[39;49mkwargs)\n\u001b[1;32m   1502\u001b[0m \u001b[39m# Do not call functions when jit is used\u001b[39;00m\n\u001b[1;32m   1503\u001b[0m full_backward_hooks, non_full_backward_hooks \u001b[39m=\u001b[39m [], []\n",
      "File \u001b[0;32m/Library/Frameworks/Python.framework/Versions/3.10/lib/python3.10/site-packages/facenet_pytorch/models/inception_resnet_v1.py:290\u001b[0m, in \u001b[0;36mInceptionResnetV1.forward\u001b[0;34m(self, x)\u001b[0m\n\u001b[1;32m    288\u001b[0m x \u001b[39m=\u001b[39m \u001b[39mself\u001b[39m\u001b[39m.\u001b[39mrepeat_1(x)\n\u001b[1;32m    289\u001b[0m x \u001b[39m=\u001b[39m \u001b[39mself\u001b[39m\u001b[39m.\u001b[39mmixed_6a(x)\n\u001b[0;32m--> 290\u001b[0m x \u001b[39m=\u001b[39m \u001b[39mself\u001b[39;49m\u001b[39m.\u001b[39;49mrepeat_2(x)\n\u001b[1;32m    291\u001b[0m x \u001b[39m=\u001b[39m \u001b[39mself\u001b[39m\u001b[39m.\u001b[39mmixed_7a(x)\n\u001b[1;32m    292\u001b[0m x \u001b[39m=\u001b[39m \u001b[39mself\u001b[39m\u001b[39m.\u001b[39mrepeat_3(x)\n",
      "File \u001b[0;32m/Library/Frameworks/Python.framework/Versions/3.10/lib/python3.10/site-packages/torch/nn/modules/module.py:1501\u001b[0m, in \u001b[0;36mModule._call_impl\u001b[0;34m(self, *args, **kwargs)\u001b[0m\n\u001b[1;32m   1496\u001b[0m \u001b[39m# If we don't have any hooks, we want to skip the rest of the logic in\u001b[39;00m\n\u001b[1;32m   1497\u001b[0m \u001b[39m# this function, and just call forward.\u001b[39;00m\n\u001b[1;32m   1498\u001b[0m \u001b[39mif\u001b[39;00m \u001b[39mnot\u001b[39;00m (\u001b[39mself\u001b[39m\u001b[39m.\u001b[39m_backward_hooks \u001b[39mor\u001b[39;00m \u001b[39mself\u001b[39m\u001b[39m.\u001b[39m_backward_pre_hooks \u001b[39mor\u001b[39;00m \u001b[39mself\u001b[39m\u001b[39m.\u001b[39m_forward_hooks \u001b[39mor\u001b[39;00m \u001b[39mself\u001b[39m\u001b[39m.\u001b[39m_forward_pre_hooks\n\u001b[1;32m   1499\u001b[0m         \u001b[39mor\u001b[39;00m _global_backward_pre_hooks \u001b[39mor\u001b[39;00m _global_backward_hooks\n\u001b[1;32m   1500\u001b[0m         \u001b[39mor\u001b[39;00m _global_forward_hooks \u001b[39mor\u001b[39;00m _global_forward_pre_hooks):\n\u001b[0;32m-> 1501\u001b[0m     \u001b[39mreturn\u001b[39;00m forward_call(\u001b[39m*\u001b[39;49margs, \u001b[39m*\u001b[39;49m\u001b[39m*\u001b[39;49mkwargs)\n\u001b[1;32m   1502\u001b[0m \u001b[39m# Do not call functions when jit is used\u001b[39;00m\n\u001b[1;32m   1503\u001b[0m full_backward_hooks, non_full_backward_hooks \u001b[39m=\u001b[39m [], []\n",
      "File \u001b[0;32m/Library/Frameworks/Python.framework/Versions/3.10/lib/python3.10/site-packages/torch/nn/modules/container.py:217\u001b[0m, in \u001b[0;36mSequential.forward\u001b[0;34m(self, input)\u001b[0m\n\u001b[1;32m    215\u001b[0m \u001b[39mdef\u001b[39;00m \u001b[39mforward\u001b[39m(\u001b[39mself\u001b[39m, \u001b[39minput\u001b[39m):\n\u001b[1;32m    216\u001b[0m     \u001b[39mfor\u001b[39;00m module \u001b[39min\u001b[39;00m \u001b[39mself\u001b[39m:\n\u001b[0;32m--> 217\u001b[0m         \u001b[39minput\u001b[39m \u001b[39m=\u001b[39m module(\u001b[39minput\u001b[39;49m)\n\u001b[1;32m    218\u001b[0m     \u001b[39mreturn\u001b[39;00m \u001b[39minput\u001b[39m\n",
      "File \u001b[0;32m/Library/Frameworks/Python.framework/Versions/3.10/lib/python3.10/site-packages/torch/nn/modules/module.py:1501\u001b[0m, in \u001b[0;36mModule._call_impl\u001b[0;34m(self, *args, **kwargs)\u001b[0m\n\u001b[1;32m   1496\u001b[0m \u001b[39m# If we don't have any hooks, we want to skip the rest of the logic in\u001b[39;00m\n\u001b[1;32m   1497\u001b[0m \u001b[39m# this function, and just call forward.\u001b[39;00m\n\u001b[1;32m   1498\u001b[0m \u001b[39mif\u001b[39;00m \u001b[39mnot\u001b[39;00m (\u001b[39mself\u001b[39m\u001b[39m.\u001b[39m_backward_hooks \u001b[39mor\u001b[39;00m \u001b[39mself\u001b[39m\u001b[39m.\u001b[39m_backward_pre_hooks \u001b[39mor\u001b[39;00m \u001b[39mself\u001b[39m\u001b[39m.\u001b[39m_forward_hooks \u001b[39mor\u001b[39;00m \u001b[39mself\u001b[39m\u001b[39m.\u001b[39m_forward_pre_hooks\n\u001b[1;32m   1499\u001b[0m         \u001b[39mor\u001b[39;00m _global_backward_pre_hooks \u001b[39mor\u001b[39;00m _global_backward_hooks\n\u001b[1;32m   1500\u001b[0m         \u001b[39mor\u001b[39;00m _global_forward_hooks \u001b[39mor\u001b[39;00m _global_forward_pre_hooks):\n\u001b[0;32m-> 1501\u001b[0m     \u001b[39mreturn\u001b[39;00m forward_call(\u001b[39m*\u001b[39;49margs, \u001b[39m*\u001b[39;49m\u001b[39m*\u001b[39;49mkwargs)\n\u001b[1;32m   1502\u001b[0m \u001b[39m# Do not call functions when jit is used\u001b[39;00m\n\u001b[1;32m   1503\u001b[0m full_backward_hooks, non_full_backward_hooks \u001b[39m=\u001b[39m [], []\n",
      "File \u001b[0;32m/Library/Frameworks/Python.framework/Versions/3.10/lib/python3.10/site-packages/facenet_pytorch/models/inception_resnet_v1.py:92\u001b[0m, in \u001b[0;36mBlock17.forward\u001b[0;34m(self, x)\u001b[0m\n\u001b[1;32m     90\u001b[0m x1 \u001b[39m=\u001b[39m \u001b[39mself\u001b[39m\u001b[39m.\u001b[39mbranch1(x)\n\u001b[1;32m     91\u001b[0m out \u001b[39m=\u001b[39m torch\u001b[39m.\u001b[39mcat((x0, x1), \u001b[39m1\u001b[39m)\n\u001b[0;32m---> 92\u001b[0m out \u001b[39m=\u001b[39m \u001b[39mself\u001b[39;49m\u001b[39m.\u001b[39;49mconv2d(out)\n\u001b[1;32m     93\u001b[0m out \u001b[39m=\u001b[39m out \u001b[39m*\u001b[39m \u001b[39mself\u001b[39m\u001b[39m.\u001b[39mscale \u001b[39m+\u001b[39m x\n\u001b[1;32m     94\u001b[0m out \u001b[39m=\u001b[39m \u001b[39mself\u001b[39m\u001b[39m.\u001b[39mrelu(out)\n",
      "File \u001b[0;32m/Library/Frameworks/Python.framework/Versions/3.10/lib/python3.10/site-packages/torch/nn/modules/module.py:1501\u001b[0m, in \u001b[0;36mModule._call_impl\u001b[0;34m(self, *args, **kwargs)\u001b[0m\n\u001b[1;32m   1496\u001b[0m \u001b[39m# If we don't have any hooks, we want to skip the rest of the logic in\u001b[39;00m\n\u001b[1;32m   1497\u001b[0m \u001b[39m# this function, and just call forward.\u001b[39;00m\n\u001b[1;32m   1498\u001b[0m \u001b[39mif\u001b[39;00m \u001b[39mnot\u001b[39;00m (\u001b[39mself\u001b[39m\u001b[39m.\u001b[39m_backward_hooks \u001b[39mor\u001b[39;00m \u001b[39mself\u001b[39m\u001b[39m.\u001b[39m_backward_pre_hooks \u001b[39mor\u001b[39;00m \u001b[39mself\u001b[39m\u001b[39m.\u001b[39m_forward_hooks \u001b[39mor\u001b[39;00m \u001b[39mself\u001b[39m\u001b[39m.\u001b[39m_forward_pre_hooks\n\u001b[1;32m   1499\u001b[0m         \u001b[39mor\u001b[39;00m _global_backward_pre_hooks \u001b[39mor\u001b[39;00m _global_backward_hooks\n\u001b[1;32m   1500\u001b[0m         \u001b[39mor\u001b[39;00m _global_forward_hooks \u001b[39mor\u001b[39;00m _global_forward_pre_hooks):\n\u001b[0;32m-> 1501\u001b[0m     \u001b[39mreturn\u001b[39;00m forward_call(\u001b[39m*\u001b[39;49margs, \u001b[39m*\u001b[39;49m\u001b[39m*\u001b[39;49mkwargs)\n\u001b[1;32m   1502\u001b[0m \u001b[39m# Do not call functions when jit is used\u001b[39;00m\n\u001b[1;32m   1503\u001b[0m full_backward_hooks, non_full_backward_hooks \u001b[39m=\u001b[39m [], []\n",
      "File \u001b[0;32m/Library/Frameworks/Python.framework/Versions/3.10/lib/python3.10/site-packages/torch/nn/modules/conv.py:463\u001b[0m, in \u001b[0;36mConv2d.forward\u001b[0;34m(self, input)\u001b[0m\n\u001b[1;32m    462\u001b[0m \u001b[39mdef\u001b[39;00m \u001b[39mforward\u001b[39m(\u001b[39mself\u001b[39m, \u001b[39minput\u001b[39m: Tensor) \u001b[39m-\u001b[39m\u001b[39m>\u001b[39m Tensor:\n\u001b[0;32m--> 463\u001b[0m     \u001b[39mreturn\u001b[39;00m \u001b[39mself\u001b[39;49m\u001b[39m.\u001b[39;49m_conv_forward(\u001b[39minput\u001b[39;49m, \u001b[39mself\u001b[39;49m\u001b[39m.\u001b[39;49mweight, \u001b[39mself\u001b[39;49m\u001b[39m.\u001b[39;49mbias)\n",
      "File \u001b[0;32m/Library/Frameworks/Python.framework/Versions/3.10/lib/python3.10/site-packages/torch/nn/modules/conv.py:459\u001b[0m, in \u001b[0;36mConv2d._conv_forward\u001b[0;34m(self, input, weight, bias)\u001b[0m\n\u001b[1;32m    455\u001b[0m \u001b[39mif\u001b[39;00m \u001b[39mself\u001b[39m\u001b[39m.\u001b[39mpadding_mode \u001b[39m!=\u001b[39m \u001b[39m'\u001b[39m\u001b[39mzeros\u001b[39m\u001b[39m'\u001b[39m:\n\u001b[1;32m    456\u001b[0m     \u001b[39mreturn\u001b[39;00m F\u001b[39m.\u001b[39mconv2d(F\u001b[39m.\u001b[39mpad(\u001b[39minput\u001b[39m, \u001b[39mself\u001b[39m\u001b[39m.\u001b[39m_reversed_padding_repeated_twice, mode\u001b[39m=\u001b[39m\u001b[39mself\u001b[39m\u001b[39m.\u001b[39mpadding_mode),\n\u001b[1;32m    457\u001b[0m                     weight, bias, \u001b[39mself\u001b[39m\u001b[39m.\u001b[39mstride,\n\u001b[1;32m    458\u001b[0m                     _pair(\u001b[39m0\u001b[39m), \u001b[39mself\u001b[39m\u001b[39m.\u001b[39mdilation, \u001b[39mself\u001b[39m\u001b[39m.\u001b[39mgroups)\n\u001b[0;32m--> 459\u001b[0m \u001b[39mreturn\u001b[39;00m F\u001b[39m.\u001b[39;49mconv2d(\u001b[39minput\u001b[39;49m, weight, bias, \u001b[39mself\u001b[39;49m\u001b[39m.\u001b[39;49mstride,\n\u001b[1;32m    460\u001b[0m                 \u001b[39mself\u001b[39;49m\u001b[39m.\u001b[39;49mpadding, \u001b[39mself\u001b[39;49m\u001b[39m.\u001b[39;49mdilation, \u001b[39mself\u001b[39;49m\u001b[39m.\u001b[39;49mgroups)\n",
      "\u001b[0;31mKeyboardInterrupt\u001b[0m: "
     ]
    }
   ],
   "source": [
    "rec_epochs = config['recognition_epochs']\n",
    "rec_logging = config['recognition_logging']\n",
    "rec_log_interval = config[\"recognition_log_wieghts_interval\"]\n",
    "\n",
    "if rec_logging: \n",
    "    # read secrets for cometml logging\n",
    "    with open('secrets.json') as secrets_file:\n",
    "        secrets = json.load(secrets_file)\n",
    "\n",
    "    # init experimenxt\n",
    "    experiment = Experiment(\n",
    "        api_key=secrets[\"api_key\"],\n",
    "        project_name=secrets[\"project_name\"],\n",
    "        workspace=\"reu-ds-club\", \n",
    "        tags=[\"recognition\"],\n",
    "    )\n",
    "\n",
    "    hyper_params = {\n",
    "        \"model_name\": config[\"model\"],\n",
    "        \"use_colab\": config['use_colab'], \n",
    "        \"epochs\": rec_epochs,\n",
    "        \"batch_size\": config['batch_size'], \n",
    "        \"image_size\": config['img_size'], \n",
    "    }\n",
    "\n",
    "    experiment.log_parameters(hyper_params)\n",
    "\n",
    "for epoch in range(rec_epochs):\n",
    "    epoch_loss = 0\n",
    "    epoch_distilation_loss = 0\n",
    "    for  triplet in (pbar := tqdm(recognition_dataloader)):\n",
    "\n",
    "        anc, pos, neg = triplet\n",
    "\n",
    "        preds = triplet_model(anc.to(device), pos.to(device), neg.to(device))\n",
    "        triplet_loss = loss_for_recognition(*preds)\n",
    "\n",
    "        triplet_encoder_output = triplet_model.encoder(anc.to(device))\n",
    "        outputs_facenet = facenet(anc.to(device))\n",
    "        distillation_loss = criterion(triplet_encoder_output, outputs_facenet)\n",
    "\n",
    "        total_loss = triplet_loss + distillation_loss\n",
    "        \n",
    "\n",
    "        optimizer.zero_grad()\n",
    "        total_loss.backward()\n",
    "        optimizer.step()\n",
    "        \n",
    "        epoch_loss += total_loss.item()\n",
    "        epoch_distilation_loss += distillation_loss.item()\n",
    "    \n",
    "    scheduler.step()\n",
    "    early_stopper(epoch_loss)\n",
    "    if early_stopper.early_stop:\n",
    "        print(\"Early stopping\")\n",
    "        break\n",
    "    \n",
    "    print(f'{epoch} | EPOCH LOSS: {total_loss} | DISTILATOIN LOSS: {epoch_distilation_loss}')\n",
    "    checkpoint_filename = os.path.join(checkpoint_dir, f\"{epoch}_checkpoint_recognition.pth\")\n",
    "\n",
    "    torch.save({\n",
    "        'epoch': epoch,\n",
    "        'model_state_dict': triplet_model.state_dict(),\n",
    "        'optimizer_state_dict': optimizer.state_dict(),\n",
    "        'loss': epoch_loss,\n",
    "    }, checkpoint_filename)\n",
    "\n",
    "    if rec_logging:\n",
    "        experiment.log_metric(\"loss\", epoch_loss, step=epoch)\n",
    "    \n",
    "    # logging model weights (accorging to log_interval + last epoch)\n",
    "    if rec_logging and (epoch % log_interval == 0 or epoch == rec_epochs-1):\n",
    "        torch.save(triplet_model, 'rec_model.pth')\n",
    "        experiment.log_model(name = f\"rec_model-epoch-{epoch}\", file_or_folder = 'rec_model.pth', file_name = f\"rec_model-epoch-{epoch}\")\n",
    "        experiment.log_asset(file_data = 'rec_model.pth', file_name = f\"rec_model-epoch-{epoch}\")\n",
    "        print(\"save model\")\n",
    "\n",
    "\n",
    "if rec_logging:\n",
    "    experiment.end()"
   ]
  },
  {
   "cell_type": "markdown",
   "metadata": {},
   "source": [
    "https://github.com/timesler/facenet-pytorch#pretrained-models - main page, to get to know how it works\n",
    "https://github.com/timesler/facenet-pytorch/blob/master/examples/finetune.ipynb - if we want to finetune it"
   ]
  },
  {
   "cell_type": "code",
   "execution_count": null,
   "metadata": {},
   "outputs": [],
   "source": [
    "# pip install pip install facenet-pytorch\n",
    "from facenet_pytorch import MTCNN, InceptionResnetV1"
   ]
  },
  {
   "cell_type": "code",
   "execution_count": null,
   "metadata": {},
   "outputs": [],
   "source": [
    "resnet = InceptionResnetV1(pretrained='vggface2').eval().to(device) # or pretrained='casia-webface'"
   ]
  },
  {
   "cell_type": "code",
   "execution_count": null,
   "metadata": {},
   "outputs": [],
   "source": [
    "batch = next(iter(recognition_dataloader))\n",
    "\n",
    "names = ['arc', 'pos', 'neg']\n",
    "cur_imgs = torch.stack([batch[0][0], batch[0][1], batch[0][2]])\n",
    "embeddings = resnet(cur_imgs).detach().cpu()\n",
    "dists = [[(e1 - e2).norm().item() for e2 in embeddings] for e1 in embeddings]"
   ]
  },
  {
   "cell_type": "code",
   "execution_count": null,
   "metadata": {},
   "outputs": [],
   "source": [
    "pd.DataFrame(dists, columns=names, index=names) # dataframe with distances "
   ]
  }
 ],
 "metadata": {
  "kernelspec": {
   "display_name": "Python 3",
   "language": "python",
   "name": "python3"
  },
  "language_info": {
   "codemirror_mode": {
    "name": "ipython",
    "version": 3
   },
   "file_extension": ".py",
   "mimetype": "text/x-python",
   "name": "python",
   "nbconvert_exporter": "python",
   "pygments_lexer": "ipython3",
   "version": "3.9.7"
  }
 },
 "nbformat": 4,
 "nbformat_minor": 2
}
