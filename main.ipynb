{
 "cells": [
  {
   "cell_type": "code",
   "execution_count": 1,
   "metadata": {},
   "outputs": [
    {
     "name": "stdout",
     "output_type": "stream",
     "text": [
      "Moving kaggle file\n",
      "\n",
      "all datasets are in place\n"
     ]
    }
   ],
   "source": [
    "import torch\n",
    "import torch.nn as nn\n",
    "\n",
    "import os\n",
    "import json\n",
    "from tqdm import tqdm\n",
    "\n",
    "import src.models as mdls\n",
    "import src.utils as utils\n",
    "\n",
    "# Face recognition imports\n",
    "from src.models import Triplet\n",
    "from src.models import ConvEmbedding\n",
    "\n",
    "from src.utils import TripletLoss\n",
    "from src.dataloaders import recognition_dataloader\n",
    "\n",
    "#downloading datasets\n",
    "config = utils.get_options()\n",
    "\n",
    "\n",
    "if config['use_colab']:\n",
    "    utils.colab()\n",
    "else:\n",
    "    utils.check_if_datasets_are_downloaded()\n",
    "\n",
    "\n",
    "import src.dataloaders as dataloaders\n",
    "\n",
    "from comet_ml import Experiment\n",
    "from comet_ml.integration.pytorch import log_model"
   ]
  },
  {
   "cell_type": "code",
   "execution_count": 2,
   "metadata": {},
   "outputs": [
    {
     "data": {
      "text/plain": [
       "device(type='cpu')"
      ]
     },
     "execution_count": 2,
     "metadata": {},
     "output_type": "execute_result"
    }
   ],
   "source": [
    "img_size = config['img_size']\n",
    "# Define a directory to save the checkpoints\n",
    "checkpoint_dir = \"checkpoints/\"\n",
    "\n",
    "# Ensure the directory exists\n",
    "os.makedirs(checkpoint_dir, exist_ok=True)\n",
    "\n",
    "#define device\n",
    "device = torch.device(\"cuda\" if torch.cuda.is_available() else \"cpu\")\n",
    "device"
   ]
  },
  {
   "cell_type": "code",
   "execution_count": 3,
   "metadata": {},
   "outputs": [],
   "source": [
    "#Face detection setup\n",
    "detection_model = mdls.InspectorGadjet()\n",
    "dataloader_for_detection = dataloaders.detection_dataloader\n",
    "\n",
    "# loss_fn = nn.MSELoss()\n",
    "loss_fn = mdls.combined_loss\n",
    "optimizer = torch.optim.Adam(detection_model.parameters(), lr=1e-3)\n",
    "detection_model.to(device)\n",
    "# loss_fn.to(device)\n",
    "None"
   ]
  },
  {
   "cell_type": "code",
   "execution_count": 4,
   "metadata": {},
   "outputs": [
    {
     "name": "stderr",
     "output_type": "stream",
     "text": [
      "/Library/Frameworks/Python.framework/Versions/3.10/lib/python3.10/site-packages/torchvision/transforms/functional.py:1603: UserWarning: The default value of the antialias parameter of all the resizing transforms (Resize(), RandomResizedCrop(), etc.) will change from None to True in v0.17, in order to be consistent across the PIL and Tensor backends. To suppress this warning, directly pass antialias=True (recommended, future default), antialias=None (current default, which means False for Tensors and True for PIL), or antialias=False (only works on Tensors - PIL will still use antialiasing). This also applies if you are using the inference transforms from the models weights: update the call to weights.transforms(antialias=True).\n",
      "  warnings.warn(\n"
     ]
    }
   ],
   "source": [
    "batch = next(iter(dataloader_for_detection))"
   ]
  },
  {
   "cell_type": "code",
   "execution_count": 5,
   "metadata": {},
   "outputs": [
    {
     "data": {
      "text/plain": [
       "[tensor([[[[1.4687e-03, 8.0738e-04, 5.1519e-04,  ..., 1.8531e-03,\n",
       "            2.2684e-03, 2.2568e-03],\n",
       "           [1.5840e-03, 6.9204e-04, 4.3829e-04,  ..., 2.1261e-03,\n",
       "            2.4606e-03, 2.3491e-03],\n",
       "           [1.5110e-03, 9.8424e-04, 5.0365e-04,  ..., 2.1261e-03,\n",
       "            2.2068e-03, 2.3760e-03],\n",
       "           ...,\n",
       "           [2.1146e-04, 1.6148e-04, 1.1918e-04,  ..., 3.8831e-03,\n",
       "            3.8754e-03, 3.8101e-03],\n",
       "           [2.2299e-04, 1.7686e-04, 1.3072e-04,  ..., 3.8793e-03,\n",
       "            3.8524e-03, 3.7447e-03],\n",
       "           [2.8835e-04, 2.5759e-04, 2.3837e-04,  ..., 3.8831e-03,\n",
       "            3.4833e-03, 3.6947e-03]],\n",
       " \n",
       "          [[9.1119e-04, 4.6905e-04, 4.4598e-04,  ..., 1.2303e-03,\n",
       "            1.0265e-03, 1.0957e-03],\n",
       "           [9.6886e-04, 4.1138e-04, 3.6140e-04,  ..., 1.1150e-03,\n",
       "            1.2880e-03, 1.2341e-03],\n",
       "           [8.2661e-04, 5.5748e-04, 3.8062e-04,  ..., 1.1150e-03,\n",
       "            1.1265e-03, 1.3303e-03],\n",
       "           ...,\n",
       "           [1.8070e-04, 1.1534e-04, 8.8428e-05,  ..., 3.8985e-03,\n",
       "            3.9062e-03, 3.8716e-03],\n",
       "           [1.9223e-04, 1.1534e-04, 1.3072e-04,  ..., 3.9100e-03,\n",
       "            3.8831e-03, 3.8216e-03],\n",
       "           [2.7297e-04, 2.2684e-04, 2.8451e-04,  ..., 3.9139e-03,\n",
       "            3.5602e-03, 3.7716e-03]],\n",
       " \n",
       "          [[4.7290e-04, 3.8447e-04, 5.0365e-04,  ..., 1.0073e-03,\n",
       "            7.1511e-04, 6.4206e-04],\n",
       "           [6.3822e-04, 3.3449e-04, 4.5367e-04,  ..., 5.9592e-04,\n",
       "            8.8812e-04, 6.8051e-04],\n",
       "           [6.0746e-04, 5.0365e-04, 5.4594e-04,  ..., 6.1515e-04,\n",
       "            5.8824e-04, 7.4587e-04],\n",
       "           ...,\n",
       "           [5.0365e-04, 3.9216e-04, 2.5759e-04,  ..., 3.8908e-03,\n",
       "            3.8908e-03, 3.8562e-03],\n",
       "           [4.7674e-04, 3.7678e-04, 3.1526e-04,  ..., 3.8947e-03,\n",
       "            3.8677e-03, 3.7601e-03],\n",
       "           [5.0365e-04, 4.3445e-04, 4.2291e-04,  ..., 3.8677e-03,\n",
       "            3.4602e-03, 3.6717e-03]]],\n",
       " \n",
       " \n",
       "         [[[3.6524e-04, 3.7678e-04, 3.7678e-04,  ..., 2.4606e-04,\n",
       "            2.4606e-04, 2.7682e-04],\n",
       "           [4.1522e-04, 4.0754e-04, 4.1907e-04,  ..., 2.3837e-04,\n",
       "            2.1146e-04, 2.1146e-04],\n",
       "           [3.9216e-04, 4.0369e-04, 4.1907e-04,  ..., 2.3837e-04,\n",
       "            2.3837e-04, 2.3453e-04],\n",
       "           ...,\n",
       "           [3.3064e-04, 2.8066e-04, 2.4221e-04,  ..., 4.4214e-04,\n",
       "            5.1903e-04, 4.7674e-04],\n",
       "           [1.7570e-03, 1.3995e-03, 8.6505e-04,  ..., 4.5367e-04,\n",
       "            4.8443e-04, 5.2288e-04],\n",
       "           [1.9762e-03, 1.9262e-03, 1.6840e-03,  ..., 4.5367e-04,\n",
       "            9.2657e-04, 1.6801e-03]],\n",
       " \n",
       "          [[3.6524e-04, 3.7678e-04, 3.6140e-04,  ..., 3.3833e-04,\n",
       "            3.2295e-04, 3.0757e-04],\n",
       "           [3.6909e-04, 3.6140e-04, 3.7293e-04,  ..., 2.3068e-04,\n",
       "            2.2684e-04, 2.6528e-04],\n",
       "           [3.3064e-04, 3.4218e-04, 3.5755e-04,  ..., 2.3837e-04,\n",
       "            2.3837e-04, 2.3453e-04],\n",
       "           ...,\n",
       "           [3.3833e-04, 2.9220e-04, 2.4221e-04,  ..., 4.3060e-04,\n",
       "            4.9596e-04, 4.1522e-04],\n",
       "           [1.8416e-03, 1.5071e-03, 9.8039e-04,  ..., 4.3829e-04,\n",
       "            4.8443e-04, 5.4594e-04],\n",
       "           [1.9031e-03, 1.8454e-03, 1.6263e-03,  ..., 4.8058e-04,\n",
       "            9.7270e-04, 1.7955e-03]],\n",
       " \n",
       "          [[2.4221e-04, 2.5375e-04, 2.8451e-04,  ..., 2.7682e-04,\n",
       "            2.6144e-04, 2.6144e-04],\n",
       "           [2.6144e-04, 2.5375e-04, 2.9604e-04,  ..., 1.9992e-04,\n",
       "            1.8839e-04, 2.1146e-04],\n",
       "           [2.3068e-04, 2.4221e-04, 2.5759e-04,  ..., 2.0761e-04,\n",
       "            2.0761e-04, 2.0377e-04],\n",
       "           ...,\n",
       "           [2.8451e-04, 2.1915e-04, 1.6532e-04,  ..., 4.1907e-04,\n",
       "            4.8827e-04, 4.1522e-04],\n",
       "           [1.5033e-03, 1.2265e-03, 7.7662e-04,  ..., 3.8447e-04,\n",
       "            4.6905e-04, 5.5363e-04],\n",
       "           [1.4072e-03, 1.5071e-03, 1.3918e-03,  ..., 3.8831e-04,\n",
       "            8.0354e-04, 1.5033e-03]]],\n",
       " \n",
       " \n",
       "         [[[3.2586e-03, 3.2838e-03, 3.3276e-03,  ..., 3.2312e-03,\n",
       "            3.4314e-03, 3.3948e-03],\n",
       "           [3.2545e-03, 3.2927e-03, 3.3180e-03,  ..., 3.3002e-03,\n",
       "            3.4902e-03, 3.4230e-03],\n",
       "           [3.2814e-03, 3.3163e-03, 3.3180e-03,  ..., 3.3338e-03,\n",
       "            3.5121e-03, 3.4549e-03],\n",
       "           ...,\n",
       "           [2.1011e-03, 2.1278e-03, 2.2068e-03,  ..., 2.5161e-03,\n",
       "            2.4740e-03, 2.4048e-03],\n",
       "           [2.0389e-03, 2.0841e-03, 2.1513e-03,  ..., 2.4606e-03,\n",
       "            2.4068e-03, 2.3510e-03],\n",
       "           [1.9550e-03, 2.0019e-03, 2.0607e-03,  ..., 2.3911e-03,\n",
       "            2.3811e-03, 2.2854e-03]],\n",
       " \n",
       "          [[3.3355e-03, 3.3453e-03, 3.3891e-03,  ..., 3.3869e-03,\n",
       "            3.6005e-03, 3.5486e-03],\n",
       "           [3.3314e-03, 3.3542e-03, 3.3795e-03,  ..., 3.4537e-03,\n",
       "            3.6303e-03, 3.5767e-03],\n",
       "           [3.3718e-03, 3.3778e-03, 3.3795e-03,  ..., 3.4621e-03,\n",
       "            3.6505e-03, 3.5868e-03],\n",
       "           ...,\n",
       "           [2.1780e-03, 2.2604e-03, 2.3395e-03,  ..., 2.5430e-03,\n",
       "            2.4740e-03, 2.4029e-03],\n",
       "           [2.1158e-03, 2.1763e-03, 2.2436e-03,  ..., 2.4875e-03,\n",
       "            2.4185e-03, 2.3356e-03],\n",
       "           [2.0165e-03, 2.0634e-03, 2.1492e-03,  ..., 2.4176e-03,\n",
       "            2.3671e-03, 2.2700e-03]],\n",
       " \n",
       "          [[3.2740e-03, 3.3300e-03, 3.3737e-03,  ..., 3.3874e-03,\n",
       "            3.6582e-03, 3.6967e-03],\n",
       "           [3.2699e-03, 3.3389e-03, 3.3641e-03,  ..., 3.4717e-03,\n",
       "            3.7291e-03, 3.7248e-03],\n",
       "           [3.3372e-03, 3.3624e-03, 3.3641e-03,  ..., 3.4970e-03,\n",
       "            3.7543e-03, 3.7433e-03],\n",
       "           ...,\n",
       "           [2.2241e-03, 2.2470e-03, 2.3260e-03,  ..., 2.5296e-03,\n",
       "            2.4471e-03, 2.3698e-03],\n",
       "           [2.1619e-03, 2.1763e-03, 2.2436e-03,  ..., 2.4471e-03,\n",
       "            2.3529e-03, 2.2756e-03],\n",
       "           [2.0627e-03, 2.0788e-03, 2.1242e-03,  ..., 2.3520e-03,\n",
       "            2.2914e-03, 2.1931e-03]]],\n",
       " \n",
       " \n",
       "         [[[3.3564e-03, 3.3256e-03, 3.3122e-03,  ..., 1.0662e-03,\n",
       "            1.0611e-03, 1.0996e-03],\n",
       "           [3.3026e-03, 3.2564e-03, 3.2430e-03,  ..., 1.0938e-03,\n",
       "            1.0652e-03, 1.0554e-03],\n",
       "           [3.2891e-03, 3.2430e-03, 3.2295e-03,  ..., 1.1476e-03,\n",
       "            1.1073e-03, 1.0739e-03],\n",
       "           ...,\n",
       "           [1.7200e-03, 1.6208e-03, 1.6460e-03,  ..., 1.9536e-04,\n",
       "            1.0453e-04, 1.2015e-04],\n",
       "           [2.1573e-03, 2.1338e-03, 2.1473e-03,  ..., 1.4658e-04,\n",
       "            1.2639e-04, 1.6556e-04],\n",
       "           [2.7874e-03, 2.7605e-03, 2.7773e-03,  ..., 1.1726e-04,\n",
       "            1.7613e-04, 3.3016e-04]],\n",
       " \n",
       "          [[3.3718e-03, 3.3410e-03, 3.3276e-03,  ..., 1.0969e-03,\n",
       "            1.1053e-03, 1.1457e-03],\n",
       "           [3.3180e-03, 3.2718e-03, 3.2584e-03,  ..., 1.1246e-03,\n",
       "            1.1077e-03, 1.1015e-03],\n",
       "           [3.3045e-03, 3.2584e-03, 3.2449e-03,  ..., 1.1784e-03,\n",
       "            1.1380e-03, 1.1065e-03],\n",
       "           ...,\n",
       "           [1.7085e-03, 1.6092e-03, 1.6345e-03,  ..., 3.1454e-04,\n",
       "            1.9680e-04, 1.6820e-04],\n",
       "           [2.1727e-03, 2.1492e-03, 2.1626e-03,  ..., 2.6576e-04,\n",
       "            2.1867e-04, 2.2708e-04],\n",
       "           [2.8181e-03, 2.7912e-03, 2.8081e-03,  ..., 2.3645e-04,\n",
       "            2.6841e-04, 3.9168e-04]],\n",
       " \n",
       "          [[3.4025e-03, 3.3718e-03, 3.3583e-03,  ..., 8.8668e-04,\n",
       "            8.4967e-04, 8.5784e-04],\n",
       "           [3.3487e-03, 3.3026e-03, 3.2891e-03,  ..., 9.2272e-04,\n",
       "            8.5712e-04, 8.4006e-04],\n",
       "           [3.3353e-03, 3.2891e-03, 3.2757e-03,  ..., 9.7655e-04,\n",
       "            9.2272e-04, 8.8548e-04],\n",
       "           ...,\n",
       "           [1.6297e-03, 1.5304e-03, 1.5557e-03,  ..., 5.1639e-04,\n",
       "            4.0874e-04, 3.9312e-04],\n",
       "           [2.0804e-03, 2.0569e-03, 2.0704e-03,  ..., 4.6424e-04,\n",
       "            4.0369e-04, 4.1162e-04],\n",
       "           [2.7413e-03, 2.7143e-03, 2.7312e-03,  ..., 4.3445e-04,\n",
       "            4.5295e-04, 5.6084e-04]]]]),\n",
       " tensor([[  1.0000,  53.2266,  28.0000, 112.5334,  69.7600],\n",
       "         [  1.0000,  42.1015,  21.1921,  76.2913,  57.2186],\n",
       "         [  0.0000,  -1.0000,  -1.0000,  -1.0000,  -1.0000],\n",
       "         [  0.0000,  -1.0000,  -1.0000,  -1.0000,  -1.0000]],\n",
       "        dtype=torch.float64)]"
      ]
     },
     "execution_count": 5,
     "metadata": {},
     "output_type": "execute_result"
    }
   ],
   "source": [
    "batch"
   ]
  },
  {
   "cell_type": "code",
   "execution_count": 6,
   "metadata": {},
   "outputs": [
    {
     "name": "stdout",
     "output_type": "stream",
     "text": [
      "bbox -  tensor([[ 53.2266,  28.0000, 112.5334,  69.7600]], dtype=torch.float64)\n",
      "bbox -  tensor([[42.1015, 21.1921, 76.2913, 57.2186]], dtype=torch.float64)\n",
      "bbox -  tensor([[-1., -1., -1., -1.]], dtype=torch.float64)\n",
      "bbox -  tensor([[-1., -1., -1., -1.]], dtype=torch.float64)\n"
     ]
    },
    {
     "data": {
      "image/png": "[encoded data removed]",
      "text/plain": [
       "<Figure size 640x480 with 4 Axes>"
      ]
     },
     "metadata": {},
     "output_type": "display_data"
    }
   ],
   "source": [
    "utils.visualize_img(batch, config['batch_size'])"
   ]
  },
  {
   "cell_type": "code",
   "execution_count": null,
   "metadata": {},
   "outputs": [],
   "source": [
    "epochs = config['epochs']\n",
    "logging = config['logging']\n",
    "log_interval = config[\"log_wieghts_interval\"]\n",
    "\n",
    "\n",
    "if logging: \n",
    "    # read secrets for cometml logging\n",
    "    with open('secrets.json') as secrets_file:\n",
    "        secrets = json.load(secrets_file)\n",
    "\n",
    "    # init experimenxt\n",
    "    experiment = Experiment(\n",
    "        api_key=secrets[\"api_key\"],\n",
    "        project_name=secrets[\"project_name\"],\n",
    "        workspace=\"reu-ds-club\", \n",
    "    )\n",
    "\n",
    "    hyper_params = {\n",
    "        \"model_name\": config[\"model\"],\n",
    "        \"use_colab\": config['use_colab'], \n",
    "        \"epochs\": epochs,\n",
    "        \"batch_size\": config['batch_size'], \n",
    "        \"image_size\": config['img_size'], \n",
    "    }\n",
    "\n",
    "    experiment.log_parameters(hyper_params)\n",
    "\n",
    "for epoch in range(epochs):\n",
    "    epoch_loss = 0.0\n",
    "    for sample in (pbar := tqdm(dataloader_for_detection)):\n",
    "\n",
    "        img, box = sample[0].to(device), sample[1].to(device)\n",
    "        img = img.to(torch.float32)\n",
    "\n",
    "        box = box.to(torch.float32)\n",
    "        optimizer.zero_grad()\n",
    "        pred = detection_model(img)\n",
    "        # loss = loss_fn(pred, box)\n",
    "\n",
    "        loss = loss_fn(pred[0], pred[1], box)\n",
    "\n",
    "        loss.backward()\n",
    "        optimizer.step()\n",
    "\n",
    "        epoch_loss += loss.item()\n",
    "\n",
    "    print(f\"Epoch: {epoch}\\tLoss: {epoch_loss / len(dataloader_for_detection)}\")\n",
    "\n",
    "    checkpoint_filename = os.path.join(checkpoint_dir, f\"checkpoint_epoch_{epoch}.pth\")\n",
    "    torch.save({\n",
    "        'epoch': epoch,\n",
    "        'model_state_dict': detection_model.state_dict(),\n",
    "        'optimizer_state_dict': optimizer.state_dict(),\n",
    "        'loss': epoch_loss,\n",
    "    }, checkpoint_filename)\n",
    "\n",
    "    if logging:\n",
    "        experiment.log_metric(\"loss\", epoch_loss, step=epoch)\n",
    "    \n",
    "    # logging model weights (accorging to log_interval + last epoch)\n",
    "    if logging and (epoch % log_interval == 0 or epoch == epochs-1):\n",
    "        torch.save(detection_model, 'model.pth')\n",
    "        experiment.log_model(name = f\"model-epoch-{epoch}\", file_or_folder = 'model.pth', file_name = f\"model-epoch-{epoch}\")\n",
    "        experiment.log_asset(file_data = 'model.pth', file_name = f\"model-epoch-{epoch}\")\n",
    "        print(\"save model\")\n",
    "\n",
    "\n",
    "if logging:\n",
    "    experiment.end()"
   ]
  },
  {
   "cell_type": "code",
   "execution_count": null,
   "metadata": {},
   "outputs": [],
   "source": [
    "#Face recognition setup\n",
    "conv = ConvEmbedding().to(device)\n",
    "triplet_model = Triplet(conv).to(device)\n",
    "loss_for_recognition = TripletLoss(margin=5)\n",
    "optimizer = torch.optim.Adam(triplet_model.parameters(), lr=1e-3)\n",
    "epochs = 20"
   ]
  },
  {
   "cell_type": "code",
   "execution_count": null,
   "metadata": {},
   "outputs": [
    {
     "data": {
      "text/plain": [
       "4083"
      ]
     },
     "execution_count": 11,
     "metadata": {},
     "output_type": "execute_result"
    }
   ],
   "source": [
    "len(recognition_dataloader)"
   ]
  },
  {
   "cell_type": "code",
   "execution_count": null,
   "metadata": {},
   "outputs": [
    {
     "name": "stdout",
     "output_type": "stream",
     "text": [
      "0 | [0/4083] LOSS: 4.9899678230285645\n",
      "0 | [5/4083] LOSS: 4.828950881958008\n",
      "0 | [10/4083] LOSS: 2.0965113639831543\n",
      "0 | [15/4083] LOSS: 4.954373836517334\n",
      "0 | [20/4083] LOSS: 4.998796463012695\n",
      "0 | [25/4083] LOSS: 5.002302646636963\n",
      "0 | [30/4083] LOSS: 4.9977312088012695\n",
      "0 | [35/4083] LOSS: 4.992169380187988\n",
      "0 | [40/4083] LOSS: 4.998960494995117\n",
      "0 | [45/4083] LOSS: 4.997317790985107\n",
      "0 | [50/4083] LOSS: 5.000369548797607\n",
      "0 | [55/4083] LOSS: 5.000226020812988\n",
      "0 | [60/4083] LOSS: 5.001129150390625\n",
      "0 | [65/4083] LOSS: 4.996389865875244\n",
      "0 | [70/4083] LOSS: 5.004185676574707\n",
      "0 | [75/4083] LOSS: 5.024327278137207\n",
      "0 | [80/4083] LOSS: 4.999454498291016\n",
      "0 | [85/4083] LOSS: 4.999821186065674\n",
      "0 | [90/4083] LOSS: 5.001814842224121\n",
      "0 | [95/4083] LOSS: 4.934751033782959\n"
     ]
    },
    {
     "ename": "KeyboardInterrupt",
     "evalue": "",
     "output_type": "error",
     "traceback": [
      "\u001b[0;31m---------------------------------------------------------------------------\u001b[0m",
      "\u001b[0;31mKeyboardInterrupt\u001b[0m                         Traceback (most recent call last)",
      "\u001b[1;32m/Users/andreisuhov/Desktop/DL projects/Face_id_and_detection/main.ipynb Cell 10\u001b[0m line \u001b[0;36m4\n\u001b[1;32m      <a href='vscode-notebook-cell:/Users/andreisuhov/Desktop/DL%20projects/Face_id_and_detection/main.ipynb#X12sZmlsZQ%3D%3D?line=0'>1</a>\u001b[0m \u001b[39mfor\u001b[39;00m epoch \u001b[39min\u001b[39;00m \u001b[39mrange\u001b[39m(epochs):\n\u001b[1;32m      <a href='vscode-notebook-cell:/Users/andreisuhov/Desktop/DL%20projects/Face_id_and_detection/main.ipynb#X12sZmlsZQ%3D%3D?line=1'>2</a>\u001b[0m     epoch_loss \u001b[39m=\u001b[39m \u001b[39m0\u001b[39m\n\u001b[0;32m----> <a href='vscode-notebook-cell:/Users/andreisuhov/Desktop/DL%20projects/Face_id_and_detection/main.ipynb#X12sZmlsZQ%3D%3D?line=3'>4</a>\u001b[0m     \u001b[39mfor\u001b[39;00m i, triplet \u001b[39min\u001b[39;00m \u001b[39menumerate\u001b[39m(recognition_dataloader):\n\u001b[1;32m      <a href='vscode-notebook-cell:/Users/andreisuhov/Desktop/DL%20projects/Face_id_and_detection/main.ipynb#X12sZmlsZQ%3D%3D?line=5'>6</a>\u001b[0m         anc, pos, neg \u001b[39m=\u001b[39m triplet\n\u001b[1;32m      <a href='vscode-notebook-cell:/Users/andreisuhov/Desktop/DL%20projects/Face_id_and_detection/main.ipynb#X12sZmlsZQ%3D%3D?line=7'>8</a>\u001b[0m         preds \u001b[39m=\u001b[39m triplet_model(anc\u001b[39m.\u001b[39mto(device), pos\u001b[39m.\u001b[39mto(device), neg\u001b[39m.\u001b[39mto(device))\n",
      "File \u001b[0;32m/Library/Frameworks/Python.framework/Versions/3.10/lib/python3.10/site-packages/torch/utils/data/dataloader.py:633\u001b[0m, in \u001b[0;36m_BaseDataLoaderIter.__next__\u001b[0;34m(self)\u001b[0m\n\u001b[1;32m    630\u001b[0m \u001b[39mif\u001b[39;00m \u001b[39mself\u001b[39m\u001b[39m.\u001b[39m_sampler_iter \u001b[39mis\u001b[39;00m \u001b[39mNone\u001b[39;00m:\n\u001b[1;32m    631\u001b[0m     \u001b[39m# TODO(https://github.com/pytorch/pytorch/issues/76750)\u001b[39;00m\n\u001b[1;32m    632\u001b[0m     \u001b[39mself\u001b[39m\u001b[39m.\u001b[39m_reset()  \u001b[39m# type: ignore[call-arg]\u001b[39;00m\n\u001b[0;32m--> 633\u001b[0m data \u001b[39m=\u001b[39m \u001b[39mself\u001b[39;49m\u001b[39m.\u001b[39;49m_next_data()\n\u001b[1;32m    634\u001b[0m \u001b[39mself\u001b[39m\u001b[39m.\u001b[39m_num_yielded \u001b[39m+\u001b[39m\u001b[39m=\u001b[39m \u001b[39m1\u001b[39m\n\u001b[1;32m    635\u001b[0m \u001b[39mif\u001b[39;00m \u001b[39mself\u001b[39m\u001b[39m.\u001b[39m_dataset_kind \u001b[39m==\u001b[39m _DatasetKind\u001b[39m.\u001b[39mIterable \u001b[39mand\u001b[39;00m \\\n\u001b[1;32m    636\u001b[0m         \u001b[39mself\u001b[39m\u001b[39m.\u001b[39m_IterableDataset_len_called \u001b[39mis\u001b[39;00m \u001b[39mnot\u001b[39;00m \u001b[39mNone\u001b[39;00m \u001b[39mand\u001b[39;00m \\\n\u001b[1;32m    637\u001b[0m         \u001b[39mself\u001b[39m\u001b[39m.\u001b[39m_num_yielded \u001b[39m>\u001b[39m \u001b[39mself\u001b[39m\u001b[39m.\u001b[39m_IterableDataset_len_called:\n",
      "File \u001b[0;32m/Library/Frameworks/Python.framework/Versions/3.10/lib/python3.10/site-packages/torch/utils/data/dataloader.py:677\u001b[0m, in \u001b[0;36m_SingleProcessDataLoaderIter._next_data\u001b[0;34m(self)\u001b[0m\n\u001b[1;32m    675\u001b[0m \u001b[39mdef\u001b[39;00m \u001b[39m_next_data\u001b[39m(\u001b[39mself\u001b[39m):\n\u001b[1;32m    676\u001b[0m     index \u001b[39m=\u001b[39m \u001b[39mself\u001b[39m\u001b[39m.\u001b[39m_next_index()  \u001b[39m# may raise StopIteration\u001b[39;00m\n\u001b[0;32m--> 677\u001b[0m     data \u001b[39m=\u001b[39m \u001b[39mself\u001b[39;49m\u001b[39m.\u001b[39;49m_dataset_fetcher\u001b[39m.\u001b[39;49mfetch(index)  \u001b[39m# may raise StopIteration\u001b[39;00m\n\u001b[1;32m    678\u001b[0m     \u001b[39mif\u001b[39;00m \u001b[39mself\u001b[39m\u001b[39m.\u001b[39m_pin_memory:\n\u001b[1;32m    679\u001b[0m         data \u001b[39m=\u001b[39m _utils\u001b[39m.\u001b[39mpin_memory\u001b[39m.\u001b[39mpin_memory(data, \u001b[39mself\u001b[39m\u001b[39m.\u001b[39m_pin_memory_device)\n",
      "File \u001b[0;32m/Library/Frameworks/Python.framework/Versions/3.10/lib/python3.10/site-packages/torch/utils/data/_utils/fetch.py:51\u001b[0m, in \u001b[0;36m_MapDatasetFetcher.fetch\u001b[0;34m(self, possibly_batched_index)\u001b[0m\n\u001b[1;32m     49\u001b[0m         data \u001b[39m=\u001b[39m \u001b[39mself\u001b[39m\u001b[39m.\u001b[39mdataset\u001b[39m.\u001b[39m__getitems__(possibly_batched_index)\n\u001b[1;32m     50\u001b[0m     \u001b[39melse\u001b[39;00m:\n\u001b[0;32m---> 51\u001b[0m         data \u001b[39m=\u001b[39m [\u001b[39mself\u001b[39m\u001b[39m.\u001b[39mdataset[idx] \u001b[39mfor\u001b[39;00m idx \u001b[39min\u001b[39;00m possibly_batched_index]\n\u001b[1;32m     52\u001b[0m \u001b[39melse\u001b[39;00m:\n\u001b[1;32m     53\u001b[0m     data \u001b[39m=\u001b[39m \u001b[39mself\u001b[39m\u001b[39m.\u001b[39mdataset[possibly_batched_index]\n",
      "File \u001b[0;32m/Library/Frameworks/Python.framework/Versions/3.10/lib/python3.10/site-packages/torch/utils/data/_utils/fetch.py:51\u001b[0m, in \u001b[0;36m<listcomp>\u001b[0;34m(.0)\u001b[0m\n\u001b[1;32m     49\u001b[0m         data \u001b[39m=\u001b[39m \u001b[39mself\u001b[39m\u001b[39m.\u001b[39mdataset\u001b[39m.\u001b[39m__getitems__(possibly_batched_index)\n\u001b[1;32m     50\u001b[0m     \u001b[39melse\u001b[39;00m:\n\u001b[0;32m---> 51\u001b[0m         data \u001b[39m=\u001b[39m [\u001b[39mself\u001b[39;49m\u001b[39m.\u001b[39;49mdataset[idx] \u001b[39mfor\u001b[39;00m idx \u001b[39min\u001b[39;00m possibly_batched_index]\n\u001b[1;32m     52\u001b[0m \u001b[39melse\u001b[39;00m:\n\u001b[1;32m     53\u001b[0m     data \u001b[39m=\u001b[39m \u001b[39mself\u001b[39m\u001b[39m.\u001b[39mdataset[possibly_batched_index]\n",
      "File \u001b[0;32m~/Desktop/DL projects/Face_id_and_detection/src/dataloaders.py:249\u001b[0m, in \u001b[0;36mCelebATriplets.__getitem__\u001b[0;34m(self, index)\u001b[0m\n\u001b[1;32m    246\u001b[0m pos_path \u001b[39m=\u001b[39m Path(triplet\u001b[39m.\u001b[39mpos\u001b[39m.\u001b[39mvalues[\u001b[39m0\u001b[39m])\n\u001b[1;32m    247\u001b[0m neg_path \u001b[39m=\u001b[39m Path(triplet\u001b[39m.\u001b[39mneg\u001b[39m.\u001b[39mvalues[\u001b[39m0\u001b[39m])\n\u001b[0;32m--> 249\u001b[0m anc \u001b[39m=\u001b[39m get_img(\u001b[39mself\u001b[39;49m\u001b[39m.\u001b[39;49mimages_path\u001b[39m.\u001b[39;49mjoinpath(anc_path))\n\u001b[1;32m    250\u001b[0m pos \u001b[39m=\u001b[39m get_img(\u001b[39mself\u001b[39m\u001b[39m.\u001b[39mimages_path\u001b[39m.\u001b[39mjoinpath(pos_path))\n\u001b[1;32m    251\u001b[0m neg \u001b[39m=\u001b[39m get_img(\u001b[39mself\u001b[39m\u001b[39m.\u001b[39mimages_path\u001b[39m.\u001b[39mjoinpath(neg_path))\n",
      "File \u001b[0;32m~/Desktop/DL projects/Face_id_and_detection/src/dataloaders.py:238\u001b[0m, in \u001b[0;36mCelebATriplets.__getitem__.<locals>.get_img\u001b[0;34m(image_path)\u001b[0m\n\u001b[1;32m    237\u001b[0m \u001b[39mdef\u001b[39;00m \u001b[39mget_img\u001b[39m(image_path):\n\u001b[0;32m--> 238\u001b[0m     img \u001b[39m=\u001b[39m cv2\u001b[39m.\u001b[39;49mimread(\u001b[39mstr\u001b[39;49m(image_path))\n\u001b[1;32m    239\u001b[0m     img \u001b[39m=\u001b[39m cv2\u001b[39m.\u001b[39mcvtColor(img, cv2\u001b[39m.\u001b[39mCOLOR_BGR2RGB)\n\u001b[1;32m    240\u001b[0m     img \u001b[39m=\u001b[39m cv2\u001b[39m.\u001b[39mresize(img, (\u001b[39mself\u001b[39m\u001b[39m.\u001b[39mwidth, \u001b[39mself\u001b[39m\u001b[39m.\u001b[39mheight))\u001b[39m.\u001b[39mastype(np\u001b[39m.\u001b[39mfloat32)\n",
      "\u001b[0;31mKeyboardInterrupt\u001b[0m: "
     ]
    }
   ],
   "source": [
    "for epoch in range(epochs):\n",
    "    epoch_loss = 0\n",
    "\n",
    "    for i, triplet in enumerate(recognition_dataloader):\n",
    "\n",
    "        anc, pos, neg = triplet\n",
    "\n",
    "        preds = triplet_model(anc.to(device), pos.to(device), neg.to(device))\n",
    "\n",
    "        loss_val = loss_for_recognition(*preds)\n",
    "\n",
    "        optimizer.zero_grad()\n",
    "        loss_val.backward()\n",
    "        optimizer.step()\n",
    "        \n",
    "        epoch_loss += loss_val.item()\n",
    "        \n",
    "        if i%5==0:\n",
    "            print(f'{epoch} | [{i}/{len(recognition_dataloader)}] LOSS: {loss_val}')\n",
    "        \n",
    "    print(f'{epoch} | EPOCH LOSS: {loss_val}')"
   ]
  }
 ],
 "metadata": {
  "kernelspec": {
   "display_name": "Python 3 (ipykernel)",
   "language": "python",
   "name": "python3"
  },
  "language_info": {
   "codemirror_mode": {
    "name": "ipython",
    "version": 3
   },
   "file_extension": ".py",
   "mimetype": "text/x-python",
   "name": "python",
   "nbconvert_exporter": "python",
   "pygments_lexer": "ipython3",
   "version": "3.11.6"
  }
 },
 "nbformat": 4,
 "nbformat_minor": 4
}
